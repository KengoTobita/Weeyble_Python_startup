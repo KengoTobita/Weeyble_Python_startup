{
 "cells": [
  {
   "cell_type": "markdown",
   "metadata": {},
   "source": [
    "# <font size = 600%>第一回　Jupyter入門</font>"
   ]
  },
  {
   "cell_type": "markdown",
   "metadata": {},
   "source": [
    "***\n",
    "本講座動画をご覧いただきありがとうございます。\n",
    "本動画は「<b>機械学習のためのPython入門動画</b>」と題しまして、    \n",
    "DeepLearningなどの機械学習を学びたいと考えている<b>プログラミング初学者</b>をターゲットにPythonの基礎を解説するものとなっています。    \n",
    "具体的な目標としては、<font color = \"red\"><b>DeepLearningの入門書を読んだ時にPython文法で躓かないレベル</b></font>まで解説しようと考えています。    \n",
    "そのためPythonをクローリングやラズベリーパイなどで使用しようと考えている方には不足があると思われます。    \n",
    "ご了承ください。"
   ]
  },
  {
   "cell_type": "markdown",
   "metadata": {},
   "source": [
    "## 講座の進行について\n",
    "今回の動画では以下の内容を予定しています。"
   ]
  },
  {
   "cell_type": "markdown",
   "metadata": {},
   "source": [
    "| 回数   | 内容                         |\n",
    "| ------ | ---------------------------- |\n",
    "| 第１回 | 環境構築とJupyter入門        |\n",
    "| 第２回 | Python基礎                   |\n",
    "| 第３回 | データ型                     |\n",
    "| 第４回 | 独自関数と制御構文           |\n",
    "| 第５回 | データのまとめ方             |\n",
    "| 第６回 | 継承とクラス                 |\n",
    "| 第７回 | ライブラリの使用             |\n",
    "| 第８回 | 機械学習に向けた数学         |\n",
    "| 第９回 | 機械学習で多用するライブラリ |"
   ]
  },
  {
   "cell_type": "markdown",
   "metadata": {},
   "source": [
    "第７回までは機械学習分野以外でも使用することの多い、基本的な内容ですので、機械学習以外の使用を考えている方でも参考になると思われます。    \n",
    "なお第８回からはDeepLearningでの使用を念頭に置いた講義内容であり、微分や配列といった数学やNumpyなど機械学習で多用するライブラリについて解説を行います。"
   ]
  },
  {
   "cell_type": "markdown",
   "metadata": {},
   "source": [
    "***\n",
    "##  Jupyterの基本操作\n",
    "今回のテキストを書いている、あなたが読んでいるテキストはJupyterというソフトで記述されています。\n",
    "このソフトは対話型のPythonエディタであり、何らかの処理を行うと"
   ]
  },
  {
   "cell_type": "markdown",
   "metadata": {},
   "source": [
    "***\n",
    "## マークダウン  \n",
    " コード以外にも説明文や図などを使用してJupyterをより分かりやすくレイアウトするべき時はマークダウンを使用します。  \n",
    " このセルが、まさにマークダウンで記述されています。\n",
    " \n",
    " ここでは細かく紹介しませんが……    \n",
    "   \n",
    " <font size = \"5\">文字を大きくしたり、</font><font size = 0.1>小さくしたり……</font>    \n",
    " <font color = \"red\">注意を引く色にしたり、</font><font color = \"#cccccc\">読みづらくしたり……</font>    \n",
    " ~~文字に線を~~<u>引いたり、</u><b>太字にしたり……</b>    \n",
    " [リンクを添付したり](https://weeyble-data.connpass.com/)、脚注をつけたり……[^1]\n",
    "\n",
    "| こんな   | 感じで                         |\n",
    "| ------ | ---------------------------- |\n",
    "| 表を | 作成して       |\n",
    "| 表示 | させることもできます                   |\n",
    "  \n",
    "  1. ね？\n",
    "  1. とっても\n",
    "  1. 便利でしょ？\n",
    "  \n",
    "\n",
    "  * ところが\n",
    "  * どっこい　　\n",
    "  \n",
    ">便利ではありますが、Jupyterを他人に見せる機会ができるまでは    \n",
    ">使用することが少ない機能です。（私も真面目に書いたのは、今回が初めてです。）  \n",
    ">それまでは<b>習得の必要はないかもしれません。</b>\n",
    "\n",
    "もしも興味が湧いたなら、このセルをダブルクリックしてみてください。\n",
    "どのように記述されたのか編集モードで見ることができます。  \n",
    " <!-- control + enter を押すと表示モードに移行します。-->"
   ]
  },
  {
   "cell_type": "markdown",
   "metadata": {},
   "source": [
    "[^1]co-working space Weeyble 公式HP"
   ]
  }
 ],
 "metadata": {
  "kernelspec": {
   "display_name": "Python 3",
   "language": "python",
   "name": "python3"
  },
  "language_info": {
   "codemirror_mode": {
    "name": "ipython",
    "version": 3
   },
   "file_extension": ".py",
   "mimetype": "text/x-python",
   "name": "python",
   "nbconvert_exporter": "python",
   "pygments_lexer": "ipython3",
   "version": "3.7.0"
  }
 },
 "nbformat": 4,
 "nbformat_minor": 2
}
