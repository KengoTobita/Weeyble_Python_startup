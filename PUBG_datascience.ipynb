{
  "nbformat": 4,
  "nbformat_minor": 0,
  "metadata": {
    "kernelspec": {
      "display_name": "Python 3",
      "language": "python",
      "name": "python3"
    },
    "language_info": {
      "codemirror_mode": {
        "name": "ipython",
        "version": 3
      },
      "file_extension": ".py",
      "mimetype": "text/x-python",
      "name": "python",
      "nbconvert_exporter": "python",
      "pygments_lexer": "ipython3",
      "version": "3.7.3"
    },
    "colab": {
      "name": "PUBG_datascience.ipynb",
      "provenance": [],
      "include_colab_link": true
    }
  },
  "cells": [
    {
      "cell_type": "markdown",
      "metadata": {
        "id": "view-in-github",
        "colab_type": "text"
      },
      "source": [
        "<a href=\"https://colab.research.google.com/github/KengoTobita/Weeyble_Python_startup/blob/master/PUBG_datascience.ipynb\" target=\"_parent\"><img src=\"https://colab.research.google.com/assets/colab-badge.svg\" alt=\"Open In Colab\"/></a>"
      ]
    },
    {
      "cell_type": "markdown",
      "metadata": {
        "id": "12vCkGd6V-4g",
        "colab_type": "text"
      },
      "source": [
        "# PUBGで分かるEDA\n",
        "このノートブックは今年の冬に開催された[PUBG Finish Placement Prediction](https://www.kaggle.com/c/pubg-finish-placement-prediction/overview)のカーネルを纏めたものです\n",
        "\n",
        "参考にしたカーネル\n",
        "* [EDA is fun!](https://www.kaggle.com/deffro/eda-is-fun)\n",
        "* [KaggleのPUBGデータ分析コンペで上位入り！ドン勝の秘訣は”連キルと潜伏”](http://www.mirandora.com/?p=2777)\n",
        "\n",
        "環境\n",
        "* **jupyter/datascience-notebook**<br>\n",
        "dockerコンテナ。jupyter環境が一発でできる。\n",
        "* **Python 3.7.3**\n",
        "\n",
        "## PUBGのデータってなに？\n",
        "公式ページの内容はこんな感じ。\n",
        ">So, where we droppin' boys and girls?    \n",
        ">Battle Royale-style video games have taken the world by storm. 100 players are dropped onto an island empty-handed and must explore, scavenge, and eliminate other players until only one is left standing, all while the play zone continues to shrink.    \n",
        ">PlayerUnknown's BattleGrounds (PUBG) has enjoyed massive popularity. With over 50 million copies sold, it's the fifth best selling game >of all time, and has millions of active monthly players.    \n",
        ">The team at PUBG has made official game data available for the public to explore and scavenge outside of \"The Blue Circle.\" This competition is not an official or affiliated PUBG site - Kaggle collected data made possible through the PUBG Developer API.    \n",
        ">You are given over 65,000 games' worth of anonymized player data, split into training and testing sets, and asked to predict final placement from final in-game stats and initial player ratings.   \n",
        ">What's the best strategy to win in PUBG? Should you sit in one spot and hide your way into victory, or do you need to be the top shot? >Let's let the data do the talking!\n",
        "\n",
        "#### PUBGのルールについて\n",
        "ルールはとっても簡単。\n",
        "1. 初対面の100人が無人島にパラシュート降下する。\n",
        "1. 街中に落ちている銃火器を集め、使用して\n",
        "1. 最後に残った一人が勝者。(通称、**ドン勝つ**)\n",
        "\n",
        "わかんない人は以下の動画を見れば、なんとなくわかります。"
      ]
    },
    {
      "cell_type": "code",
      "metadata": {
        "id": "EE-p1hSjV-4h",
        "colab_type": "code",
        "colab": {},
        "outputId": "dd94251e-63dc-40b0-eb45-952b13e86006"
      },
      "source": [
        "import IPython.display\n",
        "IPython.display.YouTubeVideo(\"Sws64_AdR-o\")"
      ],
      "execution_count": 0,
      "outputs": [
        {
          "output_type": "execute_result",
          "data": {
            "image/jpeg": "[encoded data removed]",
            "text/html": [
              "\n",
              "        <iframe\n",
              "            width=\"400\"\n",
              "            height=\"300\"\n",
              "            src=\"https://www.youtube.com/embed/Sws64_AdR-o\"\n",
              "            frameborder=\"0\"\n",
              "            allowfullscreen\n",
              "        ></iframe>\n",
              "        "
            ],
            "text/plain": [
              "<IPython.lib.display.YouTubeVideo at 0x7f7e8404a7b8>"
            ]
          },
          "metadata": {
            "tags": []
          },
          "execution_count": 1
        }
      ]
    },
    {
      "cell_type": "code",
      "metadata": {
        "id": "KdOxjyXdV-4n",
        "colab_type": "code",
        "colab": {}
      },
      "source": [
        "import warnings\n",
        "warnings.filterwarnings('ignore')"
      ],
      "execution_count": 0,
      "outputs": []
    },
    {
      "cell_type": "markdown",
      "metadata": {
        "id": "DeyhYQ3fV-4q",
        "colab_type": "text"
      },
      "source": [
        "## Pandasで読み込もう\n",
        "Pandasとは、\n",
        "\n",
        "\n",
        "pandas参考書籍 : [Pythonデータ分析/機械学習のための基本コーディング! pandasライブラリ活用入門 (impress top gear) ](https://www.amazon.co.jp/Python%E3%83%87%E3%83%BC%E3%82%BF%E5%88%86%E6%9E%90-%E6%A9%9F%E6%A2%B0%E5%AD%A6%E7%BF%92%E3%81%AE%E3%81%9F%E3%82%81%E3%81%AE%E5%9F%BA%E6%9C%AC%E3%82%B3%E3%83%BC%E3%83%87%E3%82%A3%E3%83%B3%E3%82%B0-pandas%E3%83%A9%E3%82%A4%E3%83%96%E3%83%A9%E3%83%AA%E6%B4%BB%E7%94%A8%E5%85%A5%E9%96%80-impress-gear/dp/4295005657/ref=asc_df_4295005657/?tag=jpgo-22&linkCode=df0&hvadid=295723231663&hvpos=1o1&hvnetw=g&hvrand=13604344531496346359&hvpone=&hvptwo=&hvqmt=&hvdev=c&hvdvcmdl=&hvlocint=&hvlocphy=1009279&hvtargid=pla-601555356405&psc=1&th=1&psc=1)\n",
        "\n",
        "***\n",
        "それでは実際にコードを実行していきましょう。<br>\n",
        "私の環境の場合、読み込みに少しだけ苦労しました。<br>\n",
        "chmodはもとより、読み込みのためにpandasアップデートする必要がありました。<br>\n",
        "皆さんの環境では必要が無いかもしれません。<br>"
      ]
    },
    {
      "cell_type": "code",
      "metadata": {
        "id": "d7EMLFltV-4s",
        "colab_type": "code",
        "colab": {},
        "outputId": "86705097-b18d-4f61-9419-2f6054835769"
      },
      "source": [
        "!ls"
      ],
      "execution_count": 0,
      "outputs": [
        {
          "output_type": "stream",
          "text": [
            "PUBG_datascience.ipynb\t  sample_submission_V2.csv.zip\ttrain_V2.csv\r\n",
            "python_pd.ipynb\t\t  test_V2.csv\t\t\ttrain_V2.csv.zip\r\n",
            "sample_submission_V2.csv  test_V2.csv.zip\r\n"
          ],
          "name": "stdout"
        }
      ]
    },
    {
      "cell_type": "markdown",
      "metadata": {
        "id": "wUkU2F1aV-4v",
        "colab_type": "text"
      },
      "source": [
        "さらに緊急事態が発生。<br>\n",
        "私の環境がクソ雑魚過ぎてtrainデータが読み込めません。<br>\n",
        "具体的にはメモリが足りなくてカーネルがリスタートすることになります。<br>\n",
        "同情するならRAMをください。<br>\n",
        "<br>\n",
        "今回は諦めて、trainデータを一部読み込み、遊んで見ることにします。<br>"
      ]
    },
    {
      "cell_type": "code",
      "metadata": {
        "id": "MSGZD-w6V-4w",
        "colab_type": "code",
        "colab": {}
      },
      "source": [
        "import pandas as pd \n",
        "from sklearn.model_selection import train_test_split"
      ],
      "execution_count": 0,
      "outputs": []
    },
    {
      "cell_type": "code",
      "metadata": {
        "scrolled": false,
        "id": "F9RqgcwXV-40",
        "colab_type": "code",
        "colab": {}
      },
      "source": [
        "columns = [\"Id\" ,\"groupId2\" ,\"matchId\",\"assists\", \"boosts\",\"damageDealt\" ,\"DBNOs\" ,\"headshotKills\",\"heals\" ,\"killPlace\",\"killPoints\",\"kills\",\"killStreaks\" ,\"longestKill\",\"matchDuration\",\"matchType\",\"maxPlace\",\"numGroups\",\"rankPoints\",\"revives\",\"rideDistance\",\"roadKills\",\"swimDistance\",\"teamKills\",\"vehicleDestroys\",\"walkDistance\",\"weaponsAcquired\",\"winPoints\",\"winPlacePerc\"]"
      ],
      "execution_count": 0,
      "outputs": []
    },
    {
      "cell_type": "code",
      "metadata": {
        "scrolled": true,
        "id": "5QADU6YAV-43",
        "colab_type": "code",
        "colab": {}
      },
      "source": [
        "df = pd.read_csv(\"train_V2.csv\" ,header=None, skiprows=1734174)"
      ],
      "execution_count": 0,
      "outputs": []
    },
    {
      "cell_type": "code",
      "metadata": {
        "id": "mH_QWPa8V-47",
        "colab_type": "code",
        "colab": {}
      },
      "source": [
        "df.columns = columns"
      ],
      "execution_count": 0,
      "outputs": []
    },
    {
      "cell_type": "code",
      "metadata": {
        "id": "vRQA8D3LV-4-",
        "colab_type": "code",
        "colab": {},
        "outputId": "47de744c-e590-47ec-b1c2-6f9d07f81292"
      },
      "source": [
        "df.shape"
      ],
      "execution_count": 0,
      "outputs": [
        {
          "output_type": "execute_result",
          "data": {
            "text/plain": [
              "(2712793, 29)"
            ]
          },
          "metadata": {
            "tags": []
          },
          "execution_count": 6
        }
      ]
    },
    {
      "cell_type": "code",
      "metadata": {
        "id": "VggrGUpcV-5C",
        "colab_type": "code",
        "colab": {},
        "outputId": "a75c32a6-1521-4f9f-9941-a547e65e9909"
      },
      "source": [
        "df.head()"
      ],
      "execution_count": 0,
      "outputs": [
        {
          "output_type": "execute_result",
          "data": {
            "text/html": [
              "<div>\n",
              "<style scoped>\n",
              "    .dataframe tbody tr th:only-of-type {\n",
              "        vertical-align: middle;\n",
              "    }\n",
              "\n",
              "    .dataframe tbody tr th {\n",
              "        vertical-align: top;\n",
              "    }\n",
              "\n",
              "    .dataframe thead th {\n",
              "        text-align: right;\n",
              "    }\n",
              "</style>\n",
              "<table border=\"1\" class=\"dataframe\">\n",
              "  <thead>\n",
              "    <tr style=\"text-align: right;\">\n",
              "      <th></th>\n",
              "      <th>Id</th>\n",
              "      <th>groupId2</th>\n",
              "      <th>matchId</th>\n",
              "      <th>assists</th>\n",
              "      <th>boosts</th>\n",
              "      <th>damageDealt</th>\n",
              "      <th>DBNOs</th>\n",
              "      <th>headshotKills</th>\n",
              "      <th>heals</th>\n",
              "      <th>killPlace</th>\n",
              "      <th>...</th>\n",
              "      <th>revives</th>\n",
              "      <th>rideDistance</th>\n",
              "      <th>roadKills</th>\n",
              "      <th>swimDistance</th>\n",
              "      <th>teamKills</th>\n",
              "      <th>vehicleDestroys</th>\n",
              "      <th>walkDistance</th>\n",
              "      <th>weaponsAcquired</th>\n",
              "      <th>winPoints</th>\n",
              "      <th>winPlacePerc</th>\n",
              "    </tr>\n",
              "  </thead>\n",
              "  <tbody>\n",
              "    <tr>\n",
              "      <th>0</th>\n",
              "      <td>d93bf10201b848</td>\n",
              "      <td>96c17147727135</td>\n",
              "      <td>13246373c74bf2</td>\n",
              "      <td>0</td>\n",
              "      <td>2</td>\n",
              "      <td>93.09</td>\n",
              "      <td>0</td>\n",
              "      <td>0</td>\n",
              "      <td>3</td>\n",
              "      <td>45</td>\n",
              "      <td>...</td>\n",
              "      <td>0</td>\n",
              "      <td>1115.0</td>\n",
              "      <td>0</td>\n",
              "      <td>0.00</td>\n",
              "      <td>0</td>\n",
              "      <td>0</td>\n",
              "      <td>1899.000</td>\n",
              "      <td>7</td>\n",
              "      <td>1561</td>\n",
              "      <td>0.7717</td>\n",
              "    </tr>\n",
              "    <tr>\n",
              "      <th>1</th>\n",
              "      <td>a6dd02a86da1f7</td>\n",
              "      <td>70168920eb02ce</td>\n",
              "      <td>b7f0c073046cae</td>\n",
              "      <td>1</td>\n",
              "      <td>1</td>\n",
              "      <td>132.20</td>\n",
              "      <td>2</td>\n",
              "      <td>0</td>\n",
              "      <td>10</td>\n",
              "      <td>68</td>\n",
              "      <td>...</td>\n",
              "      <td>1</td>\n",
              "      <td>1089.0</td>\n",
              "      <td>0</td>\n",
              "      <td>41.03</td>\n",
              "      <td>2</td>\n",
              "      <td>0</td>\n",
              "      <td>1909.000</td>\n",
              "      <td>6</td>\n",
              "      <td>1500</td>\n",
              "      <td>0.3704</td>\n",
              "    </tr>\n",
              "    <tr>\n",
              "      <th>2</th>\n",
              "      <td>a7dbbdae9a7513</td>\n",
              "      <td>5bfd346fe08d9a</td>\n",
              "      <td>5c742ff34ebf8c</td>\n",
              "      <td>0</td>\n",
              "      <td>0</td>\n",
              "      <td>0.00</td>\n",
              "      <td>0</td>\n",
              "      <td>0</td>\n",
              "      <td>0</td>\n",
              "      <td>72</td>\n",
              "      <td>...</td>\n",
              "      <td>0</td>\n",
              "      <td>0.0</td>\n",
              "      <td>0</td>\n",
              "      <td>0.00</td>\n",
              "      <td>0</td>\n",
              "      <td>0</td>\n",
              "      <td>5.633</td>\n",
              "      <td>0</td>\n",
              "      <td>0</td>\n",
              "      <td>0.2308</td>\n",
              "    </tr>\n",
              "    <tr>\n",
              "      <th>3</th>\n",
              "      <td>264f564608b924</td>\n",
              "      <td>ea56858bd4d6c7</td>\n",
              "      <td>53c90e4e099081</td>\n",
              "      <td>0</td>\n",
              "      <td>0</td>\n",
              "      <td>200.00</td>\n",
              "      <td>2</td>\n",
              "      <td>0</td>\n",
              "      <td>0</td>\n",
              "      <td>26</td>\n",
              "      <td>...</td>\n",
              "      <td>0</td>\n",
              "      <td>0.0</td>\n",
              "      <td>0</td>\n",
              "      <td>0.00</td>\n",
              "      <td>0</td>\n",
              "      <td>0</td>\n",
              "      <td>83.600</td>\n",
              "      <td>3</td>\n",
              "      <td>0</td>\n",
              "      <td>0.0000</td>\n",
              "    </tr>\n",
              "    <tr>\n",
              "      <th>4</th>\n",
              "      <td>019ddac1a9b43e</td>\n",
              "      <td>e119674afa60c6</td>\n",
              "      <td>ede7854b04dd6f</td>\n",
              "      <td>0</td>\n",
              "      <td>2</td>\n",
              "      <td>126.50</td>\n",
              "      <td>0</td>\n",
              "      <td>0</td>\n",
              "      <td>10</td>\n",
              "      <td>29</td>\n",
              "      <td>...</td>\n",
              "      <td>0</td>\n",
              "      <td>1080.0</td>\n",
              "      <td>1</td>\n",
              "      <td>0.00</td>\n",
              "      <td>0</td>\n",
              "      <td>0</td>\n",
              "      <td>882.700</td>\n",
              "      <td>5</td>\n",
              "      <td>0</td>\n",
              "      <td>0.5926</td>\n",
              "    </tr>\n",
              "  </tbody>\n",
              "</table>\n",
              "<p>5 rows × 29 columns</p>\n",
              "</div>"
            ],
            "text/plain": [
              "               Id        groupId2         matchId  assists  boosts  \\\n",
              "0  d93bf10201b848  96c17147727135  13246373c74bf2        0       2   \n",
              "1  a6dd02a86da1f7  70168920eb02ce  b7f0c073046cae        1       1   \n",
              "2  a7dbbdae9a7513  5bfd346fe08d9a  5c742ff34ebf8c        0       0   \n",
              "3  264f564608b924  ea56858bd4d6c7  53c90e4e099081        0       0   \n",
              "4  019ddac1a9b43e  e119674afa60c6  ede7854b04dd6f        0       2   \n",
              "\n",
              "   damageDealt  DBNOs  headshotKills  heals  killPlace  ...  revives  \\\n",
              "0        93.09      0              0      3         45  ...        0   \n",
              "1       132.20      2              0     10         68  ...        1   \n",
              "2         0.00      0              0      0         72  ...        0   \n",
              "3       200.00      2              0      0         26  ...        0   \n",
              "4       126.50      0              0     10         29  ...        0   \n",
              "\n",
              "   rideDistance  roadKills  swimDistance  teamKills vehicleDestroys  \\\n",
              "0        1115.0          0          0.00          0               0   \n",
              "1        1089.0          0         41.03          2               0   \n",
              "2           0.0          0          0.00          0               0   \n",
              "3           0.0          0          0.00          0               0   \n",
              "4        1080.0          1          0.00          0               0   \n",
              "\n",
              "   walkDistance  weaponsAcquired  winPoints  winPlacePerc  \n",
              "0      1899.000                7       1561        0.7717  \n",
              "1      1909.000                6       1500        0.3704  \n",
              "2         5.633                0          0        0.2308  \n",
              "3        83.600                3          0        0.0000  \n",
              "4       882.700                5          0        0.5926  \n",
              "\n",
              "[5 rows x 29 columns]"
            ]
          },
          "metadata": {
            "tags": []
          },
          "execution_count": 7
        }
      ]
    },
    {
      "cell_type": "markdown",
      "metadata": {
        "id": "LljvayqLV-5G",
        "colab_type": "text"
      },
      "source": [
        "<table class=\"wp-block-table\"><tbody><tr><td>winPlacePerc</td><td>予測する目的変数。勝利順位</td></tr><tr><td>matchId</td><td>試合ID</td></tr><tr><td>matchType</td><td>試合タイプ(“solo”、”duo”、”squad”など）</td></tr><tr><td>numGroups</td><td>その試合におけるグループ数</td></tr><tr><td>maxPlace</td><td>その試合における最下位順位</td></tr><tr><td>matchDuration</td><td>その試合が終わるまでの秒数</td></tr><tr><td>groupId</td><td>グループID</td></tr><tr><td>Id</td><td>プレイヤーID</td></tr><tr><td>kills</td><td>キル数</td></tr><tr><td>killStreaks</td><td>連続キル数</td></tr><tr><td>killPoints</td><td>キルベースのランキング</td></tr><tr><td>killPlace</td><td>その試合におけるキル数順位</td></tr><tr><td>longestKill</td><td>キルしたプレイヤーとの最長距離</td></tr><tr><td>DBNOs</td><td>ノックアウトした敵の数</td></tr><tr><td>assists</td><td>キルアシスト数(自分がダメージを与えてチームメイトがキルした数)</td></tr><tr><td>headshotKills</td><td>ヘッドショットでのキル数</td></tr><tr><td>damageDealt</td><td>与えたダメージ数（自傷ダメージは含めず）</td></tr><tr><td>boosts</td><td>ブーストアイテム使用数</td></tr><tr><td>heals</td><td>回復アイテム利用数</td></tr><tr><td>weaponsAcquired</td><td>武器入手数</td></tr><tr><td>revives</td><td>ノックアウトされたチームメイトを蘇生した数</td></tr><tr><td>walkDistance</td><td>歩行移動距離</td></tr><tr><td>rideDistance</td><td>乗り物に乗って移動した距離</td></tr><tr><td>roadKills</td><td>乗り物からキルした数</td></tr><tr><td>swimDistance</td><td>水泳距離</td></tr><tr><td>teamKills</td><td>チームメイトをキルした数</td></tr><tr><td>vehicleDestroys</td><td>乗り物を破壊した数</td></tr><tr><td>rankPoints</td><td>プライヤーランキング</td></tr><tr><td>winPoints</td><td>勝利数ベースのランキング</td></tr></tbody></table>\n",
        "\n",
        "\n",
        "合数をカウントしてみましょう。<br>\n",
        "これはpandasのuniqueを使用すればいけます。"
      ]
    },
    {
      "cell_type": "code",
      "metadata": {
        "id": "U6NbiMC5V-5H",
        "colab_type": "code",
        "colab": {},
        "outputId": "cb1cc179-ca74-4b33-d099-fe10b8bf4bee"
      },
      "source": [
        "len(df[\"matchId\"].unique())"
      ],
      "execution_count": 0,
      "outputs": [
        {
          "output_type": "execute_result",
          "data": {
            "text/plain": [
              "47965"
            ]
          },
          "metadata": {
            "tags": []
          },
          "execution_count": 8
        }
      ]
    },
    {
      "cell_type": "code",
      "metadata": {
        "scrolled": true,
        "id": "9aeoZifNV-5K",
        "colab_type": "code",
        "colab": {}
      },
      "source": [
        "df_train, df_test = train_test_split(df, test_size=0.3, shuffle = False)"
      ],
      "execution_count": 0,
      "outputs": []
    },
    {
      "cell_type": "markdown",
      "metadata": {
        "id": "NziTzmMwV-5O",
        "colab_type": "text"
      },
      "source": [
        "メモリがしんどいので、dfを消します。"
      ]
    },
    {
      "cell_type": "code",
      "metadata": {
        "id": "FzqFOmESV-5P",
        "colab_type": "code",
        "colab": {},
        "outputId": "d8eb35db-fb5b-4546-fa39-3ff945abb1b0"
      },
      "source": [
        "del df\n",
        "df"
      ],
      "execution_count": 0,
      "outputs": [
        {
          "output_type": "error",
          "ename": "NameError",
          "evalue": "name 'df' is not defined",
          "traceback": [
            "\u001b[0;31m---------------------------------------------------------------------------\u001b[0m",
            "\u001b[0;31mNameError\u001b[0m                                 Traceback (most recent call last)",
            "\u001b[0;32m<ipython-input-9-f5b8677c739e>\u001b[0m in \u001b[0;36m<module>\u001b[0;34m\u001b[0m\n\u001b[1;32m      1\u001b[0m \u001b[0;32mdel\u001b[0m \u001b[0mdf\u001b[0m\u001b[0;34m\u001b[0m\u001b[0;34m\u001b[0m\u001b[0m\n\u001b[0;32m----> 2\u001b[0;31m \u001b[0mdf\u001b[0m\u001b[0;34m\u001b[0m\u001b[0;34m\u001b[0m\u001b[0m\n\u001b[0m",
            "\u001b[0;31mNameError\u001b[0m: name 'df' is not defined"
          ]
        }
      ]
    },
    {
      "cell_type": "code",
      "metadata": {
        "id": "3iiaPm8-V-5T",
        "colab_type": "code",
        "colab": {},
        "outputId": "3982ebd4-127d-4cc8-f83f-9f18ec6a3d26"
      },
      "source": [
        "print(\"df_train : \", df_train.shape)\n",
        "print(\"df_test : \", df_test.shape)"
      ],
      "execution_count": 0,
      "outputs": [
        {
          "output_type": "stream",
          "text": [
            "df_train :  (1898955, 29)\n",
            "df_test :  (813838, 29)\n"
          ],
          "name": "stdout"
        }
      ]
    },
    {
      "cell_type": "code",
      "metadata": {
        "id": "jy8VRkwhV-5W",
        "colab_type": "code",
        "colab": {},
        "outputId": "25b8ee05-3559-4f35-c012-fe617ca2dc35"
      },
      "source": [
        "df_train.describe()"
      ],
      "execution_count": 0,
      "outputs": [
        {
          "output_type": "execute_result",
          "data": {
            "text/html": [
              "<div>\n",
              "<style scoped>\n",
              "    .dataframe tbody tr th:only-of-type {\n",
              "        vertical-align: middle;\n",
              "    }\n",
              "\n",
              "    .dataframe tbody tr th {\n",
              "        vertical-align: top;\n",
              "    }\n",
              "\n",
              "    .dataframe thead th {\n",
              "        text-align: right;\n",
              "    }\n",
              "</style>\n",
              "<table border=\"1\" class=\"dataframe\">\n",
              "  <thead>\n",
              "    <tr style=\"text-align: right;\">\n",
              "      <th></th>\n",
              "      <th>assists</th>\n",
              "      <th>boosts</th>\n",
              "      <th>damageDealt</th>\n",
              "      <th>DBNOs</th>\n",
              "      <th>headshotKills</th>\n",
              "      <th>heals</th>\n",
              "      <th>killPlace</th>\n",
              "      <th>killPoints</th>\n",
              "      <th>kills</th>\n",
              "      <th>killStreaks</th>\n",
              "      <th>...</th>\n",
              "      <th>revives</th>\n",
              "      <th>rideDistance</th>\n",
              "      <th>roadKills</th>\n",
              "      <th>swimDistance</th>\n",
              "      <th>teamKills</th>\n",
              "      <th>vehicleDestroys</th>\n",
              "      <th>walkDistance</th>\n",
              "      <th>weaponsAcquired</th>\n",
              "      <th>winPoints</th>\n",
              "      <th>winPlacePerc</th>\n",
              "    </tr>\n",
              "  </thead>\n",
              "  <tbody>\n",
              "    <tr>\n",
              "      <th>count</th>\n",
              "      <td>1.898955e+06</td>\n",
              "      <td>1.898955e+06</td>\n",
              "      <td>1.898955e+06</td>\n",
              "      <td>1.898955e+06</td>\n",
              "      <td>1.898955e+06</td>\n",
              "      <td>1.898955e+06</td>\n",
              "      <td>1.898955e+06</td>\n",
              "      <td>1.898955e+06</td>\n",
              "      <td>1.898955e+06</td>\n",
              "      <td>1.898955e+06</td>\n",
              "      <td>...</td>\n",
              "      <td>1.898955e+06</td>\n",
              "      <td>1.898955e+06</td>\n",
              "      <td>1.898955e+06</td>\n",
              "      <td>1.898955e+06</td>\n",
              "      <td>1.898955e+06</td>\n",
              "      <td>1.898955e+06</td>\n",
              "      <td>1.898955e+06</td>\n",
              "      <td>1.898955e+06</td>\n",
              "      <td>1.898955e+06</td>\n",
              "      <td>1.898954e+06</td>\n",
              "    </tr>\n",
              "    <tr>\n",
              "      <th>mean</th>\n",
              "      <td>2.336422e-01</td>\n",
              "      <td>1.107039e+00</td>\n",
              "      <td>1.306982e+02</td>\n",
              "      <td>6.578144e-01</td>\n",
              "      <td>2.266178e-01</td>\n",
              "      <td>1.371619e+00</td>\n",
              "      <td>4.760079e+01</td>\n",
              "      <td>5.045977e+02</td>\n",
              "      <td>9.247007e-01</td>\n",
              "      <td>5.437001e-01</td>\n",
              "      <td>...</td>\n",
              "      <td>1.645289e-01</td>\n",
              "      <td>6.059505e+02</td>\n",
              "      <td>3.467697e-03</td>\n",
              "      <td>4.503568e+00</td>\n",
              "      <td>2.382732e-02</td>\n",
              "      <td>8.020727e-03</td>\n",
              "      <td>1.154174e+03</td>\n",
              "      <td>3.661779e+00</td>\n",
              "      <td>6.058894e+02</td>\n",
              "      <td>4.728662e-01</td>\n",
              "    </tr>\n",
              "    <tr>\n",
              "      <th>std</th>\n",
              "      <td>5.873049e-01</td>\n",
              "      <td>1.716520e+00</td>\n",
              "      <td>1.707704e+02</td>\n",
              "      <td>1.145477e+00</td>\n",
              "      <td>6.050846e-01</td>\n",
              "      <td>2.682822e+00</td>\n",
              "      <td>2.746082e+01</td>\n",
              "      <td>6.274931e+02</td>\n",
              "      <td>1.558786e+00</td>\n",
              "      <td>7.109693e-01</td>\n",
              "      <td>...</td>\n",
              "      <td>4.724629e-01</td>\n",
              "      <td>1.496890e+03</td>\n",
              "      <td>7.329746e-02</td>\n",
              "      <td>3.046306e+01</td>\n",
              "      <td>1.667838e-01</td>\n",
              "      <td>9.322279e-02</td>\n",
              "      <td>1.183330e+03</td>\n",
              "      <td>2.466803e+00</td>\n",
              "      <td>7.395928e+02</td>\n",
              "      <td>3.073887e-01</td>\n",
              "    </tr>\n",
              "    <tr>\n",
              "      <th>min</th>\n",
              "      <td>0.000000e+00</td>\n",
              "      <td>0.000000e+00</td>\n",
              "      <td>0.000000e+00</td>\n",
              "      <td>0.000000e+00</td>\n",
              "      <td>0.000000e+00</td>\n",
              "      <td>0.000000e+00</td>\n",
              "      <td>1.000000e+00</td>\n",
              "      <td>0.000000e+00</td>\n",
              "      <td>0.000000e+00</td>\n",
              "      <td>0.000000e+00</td>\n",
              "      <td>...</td>\n",
              "      <td>0.000000e+00</td>\n",
              "      <td>0.000000e+00</td>\n",
              "      <td>0.000000e+00</td>\n",
              "      <td>0.000000e+00</td>\n",
              "      <td>0.000000e+00</td>\n",
              "      <td>0.000000e+00</td>\n",
              "      <td>0.000000e+00</td>\n",
              "      <td>0.000000e+00</td>\n",
              "      <td>0.000000e+00</td>\n",
              "      <td>0.000000e+00</td>\n",
              "    </tr>\n",
              "    <tr>\n",
              "      <th>25%</th>\n",
              "      <td>0.000000e+00</td>\n",
              "      <td>0.000000e+00</td>\n",
              "      <td>0.000000e+00</td>\n",
              "      <td>0.000000e+00</td>\n",
              "      <td>0.000000e+00</td>\n",
              "      <td>0.000000e+00</td>\n",
              "      <td>2.400000e+01</td>\n",
              "      <td>0.000000e+00</td>\n",
              "      <td>0.000000e+00</td>\n",
              "      <td>0.000000e+00</td>\n",
              "      <td>...</td>\n",
              "      <td>0.000000e+00</td>\n",
              "      <td>0.000000e+00</td>\n",
              "      <td>0.000000e+00</td>\n",
              "      <td>0.000000e+00</td>\n",
              "      <td>0.000000e+00</td>\n",
              "      <td>0.000000e+00</td>\n",
              "      <td>1.550000e+02</td>\n",
              "      <td>2.000000e+00</td>\n",
              "      <td>0.000000e+00</td>\n",
              "      <td>2.000000e-01</td>\n",
              "    </tr>\n",
              "    <tr>\n",
              "      <th>50%</th>\n",
              "      <td>0.000000e+00</td>\n",
              "      <td>0.000000e+00</td>\n",
              "      <td>8.415000e+01</td>\n",
              "      <td>0.000000e+00</td>\n",
              "      <td>0.000000e+00</td>\n",
              "      <td>0.000000e+00</td>\n",
              "      <td>4.700000e+01</td>\n",
              "      <td>0.000000e+00</td>\n",
              "      <td>0.000000e+00</td>\n",
              "      <td>0.000000e+00</td>\n",
              "      <td>...</td>\n",
              "      <td>0.000000e+00</td>\n",
              "      <td>0.000000e+00</td>\n",
              "      <td>0.000000e+00</td>\n",
              "      <td>0.000000e+00</td>\n",
              "      <td>0.000000e+00</td>\n",
              "      <td>0.000000e+00</td>\n",
              "      <td>6.859000e+02</td>\n",
              "      <td>3.000000e+00</td>\n",
              "      <td>0.000000e+00</td>\n",
              "      <td>4.583000e-01</td>\n",
              "    </tr>\n",
              "    <tr>\n",
              "      <th>75%</th>\n",
              "      <td>0.000000e+00</td>\n",
              "      <td>2.000000e+00</td>\n",
              "      <td>1.860000e+02</td>\n",
              "      <td>1.000000e+00</td>\n",
              "      <td>0.000000e+00</td>\n",
              "      <td>2.000000e+00</td>\n",
              "      <td>7.100000e+01</td>\n",
              "      <td>1.171000e+03</td>\n",
              "      <td>1.000000e+00</td>\n",
              "      <td>1.000000e+00</td>\n",
              "      <td>...</td>\n",
              "      <td>0.000000e+00</td>\n",
              "      <td>1.113000e-01</td>\n",
              "      <td>0.000000e+00</td>\n",
              "      <td>0.000000e+00</td>\n",
              "      <td>0.000000e+00</td>\n",
              "      <td>0.000000e+00</td>\n",
              "      <td>1.977000e+03</td>\n",
              "      <td>5.000000e+00</td>\n",
              "      <td>1.495000e+03</td>\n",
              "      <td>7.407000e-01</td>\n",
              "    </tr>\n",
              "    <tr>\n",
              "      <th>max</th>\n",
              "      <td>1.700000e+01</td>\n",
              "      <td>2.300000e+01</td>\n",
              "      <td>5.990000e+03</td>\n",
              "      <td>4.000000e+01</td>\n",
              "      <td>6.400000e+01</td>\n",
              "      <td>7.300000e+01</td>\n",
              "      <td>1.000000e+02</td>\n",
              "      <td>2.154000e+03</td>\n",
              "      <td>7.200000e+01</td>\n",
              "      <td>1.800000e+01</td>\n",
              "      <td>...</td>\n",
              "      <td>3.900000e+01</td>\n",
              "      <td>3.232000e+04</td>\n",
              "      <td>1.800000e+01</td>\n",
              "      <td>3.514000e+03</td>\n",
              "      <td>6.000000e+00</td>\n",
              "      <td>5.000000e+00</td>\n",
              "      <td>1.625000e+04</td>\n",
              "      <td>2.360000e+02</td>\n",
              "      <td>2.000000e+03</td>\n",
              "      <td>1.000000e+00</td>\n",
              "    </tr>\n",
              "  </tbody>\n",
              "</table>\n",
              "<p>8 rows × 25 columns</p>\n",
              "</div>"
            ],
            "text/plain": [
              "            assists        boosts   damageDealt         DBNOs  headshotKills  \\\n",
              "count  1.898955e+06  1.898955e+06  1.898955e+06  1.898955e+06   1.898955e+06   \n",
              "mean   2.336422e-01  1.107039e+00  1.306982e+02  6.578144e-01   2.266178e-01   \n",
              "std    5.873049e-01  1.716520e+00  1.707704e+02  1.145477e+00   6.050846e-01   \n",
              "min    0.000000e+00  0.000000e+00  0.000000e+00  0.000000e+00   0.000000e+00   \n",
              "25%    0.000000e+00  0.000000e+00  0.000000e+00  0.000000e+00   0.000000e+00   \n",
              "50%    0.000000e+00  0.000000e+00  8.415000e+01  0.000000e+00   0.000000e+00   \n",
              "75%    0.000000e+00  2.000000e+00  1.860000e+02  1.000000e+00   0.000000e+00   \n",
              "max    1.700000e+01  2.300000e+01  5.990000e+03  4.000000e+01   6.400000e+01   \n",
              "\n",
              "              heals     killPlace    killPoints         kills   killStreaks  \\\n",
              "count  1.898955e+06  1.898955e+06  1.898955e+06  1.898955e+06  1.898955e+06   \n",
              "mean   1.371619e+00  4.760079e+01  5.045977e+02  9.247007e-01  5.437001e-01   \n",
              "std    2.682822e+00  2.746082e+01  6.274931e+02  1.558786e+00  7.109693e-01   \n",
              "min    0.000000e+00  1.000000e+00  0.000000e+00  0.000000e+00  0.000000e+00   \n",
              "25%    0.000000e+00  2.400000e+01  0.000000e+00  0.000000e+00  0.000000e+00   \n",
              "50%    0.000000e+00  4.700000e+01  0.000000e+00  0.000000e+00  0.000000e+00   \n",
              "75%    2.000000e+00  7.100000e+01  1.171000e+03  1.000000e+00  1.000000e+00   \n",
              "max    7.300000e+01  1.000000e+02  2.154000e+03  7.200000e+01  1.800000e+01   \n",
              "\n",
              "       ...       revives  rideDistance     roadKills  swimDistance  \\\n",
              "count  ...  1.898955e+06  1.898955e+06  1.898955e+06  1.898955e+06   \n",
              "mean   ...  1.645289e-01  6.059505e+02  3.467697e-03  4.503568e+00   \n",
              "std    ...  4.724629e-01  1.496890e+03  7.329746e-02  3.046306e+01   \n",
              "min    ...  0.000000e+00  0.000000e+00  0.000000e+00  0.000000e+00   \n",
              "25%    ...  0.000000e+00  0.000000e+00  0.000000e+00  0.000000e+00   \n",
              "50%    ...  0.000000e+00  0.000000e+00  0.000000e+00  0.000000e+00   \n",
              "75%    ...  0.000000e+00  1.113000e-01  0.000000e+00  0.000000e+00   \n",
              "max    ...  3.900000e+01  3.232000e+04  1.800000e+01  3.514000e+03   \n",
              "\n",
              "          teamKills  vehicleDestroys  walkDistance  weaponsAcquired  \\\n",
              "count  1.898955e+06     1.898955e+06  1.898955e+06     1.898955e+06   \n",
              "mean   2.382732e-02     8.020727e-03  1.154174e+03     3.661779e+00   \n",
              "std    1.667838e-01     9.322279e-02  1.183330e+03     2.466803e+00   \n",
              "min    0.000000e+00     0.000000e+00  0.000000e+00     0.000000e+00   \n",
              "25%    0.000000e+00     0.000000e+00  1.550000e+02     2.000000e+00   \n",
              "50%    0.000000e+00     0.000000e+00  6.859000e+02     3.000000e+00   \n",
              "75%    0.000000e+00     0.000000e+00  1.977000e+03     5.000000e+00   \n",
              "max    6.000000e+00     5.000000e+00  1.625000e+04     2.360000e+02   \n",
              "\n",
              "          winPoints  winPlacePerc  \n",
              "count  1.898955e+06  1.898954e+06  \n",
              "mean   6.058894e+02  4.728662e-01  \n",
              "std    7.395928e+02  3.073887e-01  \n",
              "min    0.000000e+00  0.000000e+00  \n",
              "25%    0.000000e+00  2.000000e-01  \n",
              "50%    0.000000e+00  4.583000e-01  \n",
              "75%    1.495000e+03  7.407000e-01  \n",
              "max    2.000000e+03  1.000000e+00  \n",
              "\n",
              "[8 rows x 25 columns]"
            ]
          },
          "metadata": {
            "tags": []
          },
          "execution_count": 18
        }
      ]
    },
    {
      "cell_type": "code",
      "metadata": {
        "id": "OkWhxR7jV-5a",
        "colab_type": "code",
        "colab": {},
        "outputId": "ac8ee181-0031-477b-d095-89b25ee2c3b8"
      },
      "source": [
        "df_train.head()"
      ],
      "execution_count": 0,
      "outputs": [
        {
          "output_type": "execute_result",
          "data": {
            "text/html": [
              "<div>\n",
              "<style scoped>\n",
              "    .dataframe tbody tr th:only-of-type {\n",
              "        vertical-align: middle;\n",
              "    }\n",
              "\n",
              "    .dataframe tbody tr th {\n",
              "        vertical-align: top;\n",
              "    }\n",
              "\n",
              "    .dataframe thead th {\n",
              "        text-align: right;\n",
              "    }\n",
              "</style>\n",
              "<table border=\"1\" class=\"dataframe\">\n",
              "  <thead>\n",
              "    <tr style=\"text-align: right;\">\n",
              "      <th></th>\n",
              "      <th>Id</th>\n",
              "      <th>groupId2</th>\n",
              "      <th>matchId</th>\n",
              "      <th>assists</th>\n",
              "      <th>boosts</th>\n",
              "      <th>damageDealt</th>\n",
              "      <th>DBNOs</th>\n",
              "      <th>headshotKills</th>\n",
              "      <th>heals</th>\n",
              "      <th>killPlace</th>\n",
              "      <th>...</th>\n",
              "      <th>revives</th>\n",
              "      <th>rideDistance</th>\n",
              "      <th>roadKills</th>\n",
              "      <th>swimDistance</th>\n",
              "      <th>teamKills</th>\n",
              "      <th>vehicleDestroys</th>\n",
              "      <th>walkDistance</th>\n",
              "      <th>weaponsAcquired</th>\n",
              "      <th>winPoints</th>\n",
              "      <th>winPlacePerc</th>\n",
              "    </tr>\n",
              "  </thead>\n",
              "  <tbody>\n",
              "    <tr>\n",
              "      <th>0</th>\n",
              "      <td>d93bf10201b848</td>\n",
              "      <td>96c17147727135</td>\n",
              "      <td>13246373c74bf2</td>\n",
              "      <td>0</td>\n",
              "      <td>2</td>\n",
              "      <td>93.09</td>\n",
              "      <td>0</td>\n",
              "      <td>0</td>\n",
              "      <td>3</td>\n",
              "      <td>45</td>\n",
              "      <td>...</td>\n",
              "      <td>0</td>\n",
              "      <td>1115.0</td>\n",
              "      <td>0</td>\n",
              "      <td>0.00</td>\n",
              "      <td>0</td>\n",
              "      <td>0</td>\n",
              "      <td>1899.000</td>\n",
              "      <td>7</td>\n",
              "      <td>1561</td>\n",
              "      <td>0.7717</td>\n",
              "    </tr>\n",
              "    <tr>\n",
              "      <th>1</th>\n",
              "      <td>a6dd02a86da1f7</td>\n",
              "      <td>70168920eb02ce</td>\n",
              "      <td>b7f0c073046cae</td>\n",
              "      <td>1</td>\n",
              "      <td>1</td>\n",
              "      <td>132.20</td>\n",
              "      <td>2</td>\n",
              "      <td>0</td>\n",
              "      <td>10</td>\n",
              "      <td>68</td>\n",
              "      <td>...</td>\n",
              "      <td>1</td>\n",
              "      <td>1089.0</td>\n",
              "      <td>0</td>\n",
              "      <td>41.03</td>\n",
              "      <td>2</td>\n",
              "      <td>0</td>\n",
              "      <td>1909.000</td>\n",
              "      <td>6</td>\n",
              "      <td>1500</td>\n",
              "      <td>0.3704</td>\n",
              "    </tr>\n",
              "    <tr>\n",
              "      <th>2</th>\n",
              "      <td>a7dbbdae9a7513</td>\n",
              "      <td>5bfd346fe08d9a</td>\n",
              "      <td>5c742ff34ebf8c</td>\n",
              "      <td>0</td>\n",
              "      <td>0</td>\n",
              "      <td>0.00</td>\n",
              "      <td>0</td>\n",
              "      <td>0</td>\n",
              "      <td>0</td>\n",
              "      <td>72</td>\n",
              "      <td>...</td>\n",
              "      <td>0</td>\n",
              "      <td>0.0</td>\n",
              "      <td>0</td>\n",
              "      <td>0.00</td>\n",
              "      <td>0</td>\n",
              "      <td>0</td>\n",
              "      <td>5.633</td>\n",
              "      <td>0</td>\n",
              "      <td>0</td>\n",
              "      <td>0.2308</td>\n",
              "    </tr>\n",
              "    <tr>\n",
              "      <th>3</th>\n",
              "      <td>264f564608b924</td>\n",
              "      <td>ea56858bd4d6c7</td>\n",
              "      <td>53c90e4e099081</td>\n",
              "      <td>0</td>\n",
              "      <td>0</td>\n",
              "      <td>200.00</td>\n",
              "      <td>2</td>\n",
              "      <td>0</td>\n",
              "      <td>0</td>\n",
              "      <td>26</td>\n",
              "      <td>...</td>\n",
              "      <td>0</td>\n",
              "      <td>0.0</td>\n",
              "      <td>0</td>\n",
              "      <td>0.00</td>\n",
              "      <td>0</td>\n",
              "      <td>0</td>\n",
              "      <td>83.600</td>\n",
              "      <td>3</td>\n",
              "      <td>0</td>\n",
              "      <td>0.0000</td>\n",
              "    </tr>\n",
              "    <tr>\n",
              "      <th>4</th>\n",
              "      <td>019ddac1a9b43e</td>\n",
              "      <td>e119674afa60c6</td>\n",
              "      <td>ede7854b04dd6f</td>\n",
              "      <td>0</td>\n",
              "      <td>2</td>\n",
              "      <td>126.50</td>\n",
              "      <td>0</td>\n",
              "      <td>0</td>\n",
              "      <td>10</td>\n",
              "      <td>29</td>\n",
              "      <td>...</td>\n",
              "      <td>0</td>\n",
              "      <td>1080.0</td>\n",
              "      <td>1</td>\n",
              "      <td>0.00</td>\n",
              "      <td>0</td>\n",
              "      <td>0</td>\n",
              "      <td>882.700</td>\n",
              "      <td>5</td>\n",
              "      <td>0</td>\n",
              "      <td>0.5926</td>\n",
              "    </tr>\n",
              "  </tbody>\n",
              "</table>\n",
              "<p>5 rows × 29 columns</p>\n",
              "</div>"
            ],
            "text/plain": [
              "               Id        groupId2         matchId  assists  boosts  \\\n",
              "0  d93bf10201b848  96c17147727135  13246373c74bf2        0       2   \n",
              "1  a6dd02a86da1f7  70168920eb02ce  b7f0c073046cae        1       1   \n",
              "2  a7dbbdae9a7513  5bfd346fe08d9a  5c742ff34ebf8c        0       0   \n",
              "3  264f564608b924  ea56858bd4d6c7  53c90e4e099081        0       0   \n",
              "4  019ddac1a9b43e  e119674afa60c6  ede7854b04dd6f        0       2   \n",
              "\n",
              "   damageDealt  DBNOs  headshotKills  heals  killPlace  ...  revives  \\\n",
              "0        93.09      0              0      3         45  ...        0   \n",
              "1       132.20      2              0     10         68  ...        1   \n",
              "2         0.00      0              0      0         72  ...        0   \n",
              "3       200.00      2              0      0         26  ...        0   \n",
              "4       126.50      0              0     10         29  ...        0   \n",
              "\n",
              "   rideDistance  roadKills  swimDistance  teamKills vehicleDestroys  \\\n",
              "0        1115.0          0          0.00          0               0   \n",
              "1        1089.0          0         41.03          2               0   \n",
              "2           0.0          0          0.00          0               0   \n",
              "3           0.0          0          0.00          0               0   \n",
              "4        1080.0          1          0.00          0               0   \n",
              "\n",
              "   walkDistance  weaponsAcquired  winPoints  winPlacePerc  \n",
              "0      1899.000                7       1561        0.7717  \n",
              "1      1909.000                6       1500        0.3704  \n",
              "2         5.633                0          0        0.2308  \n",
              "3        83.600                3          0        0.0000  \n",
              "4       882.700                5          0        0.5926  \n",
              "\n",
              "[5 rows x 29 columns]"
            ]
          },
          "metadata": {
            "tags": []
          },
          "execution_count": 19
        }
      ]
    },
    {
      "cell_type": "code",
      "metadata": {
        "scrolled": true,
        "id": "C9bqyW1QV-5e",
        "colab_type": "code",
        "colab": {},
        "outputId": "98bd0dee-1b3c-492b-f8da-69dfdf300e9b"
      },
      "source": [
        "len(df_train.loc[:,\"matchId\"].unique())"
      ],
      "execution_count": 0,
      "outputs": [
        {
          "output_type": "execute_result",
          "data": {
            "text/plain": [
              "47965"
            ]
          },
          "metadata": {
            "tags": []
          },
          "execution_count": 20
        }
      ]
    },
    {
      "cell_type": "markdown",
      "metadata": {
        "id": "WiDxPMAnV-5h",
        "colab_type": "text"
      },
      "source": [
        "## Explanatory Data Analysis(探索的データ解析)って何？\n",
        "データの特徴を解析することを目的とした分析。<br>\n",
        "分析するデータにある相関関係やパターンを分析することが目的。"
      ]
    },
    {
      "cell_type": "code",
      "metadata": {
        "id": "r6L9Ltr3V-5i",
        "colab_type": "code",
        "colab": {}
      },
      "source": [
        "import matplotlib.pyplot as plt\n",
        "import seaborn as sns "
      ],
      "execution_count": 0,
      "outputs": []
    },
    {
      "cell_type": "code",
      "metadata": {
        "id": "N-ZFbKfxV-5m",
        "colab_type": "code",
        "colab": {},
        "outputId": "14fb488f-7bc9-47dc-9d10-c396878bf5fd"
      },
      "source": [
        "plt.figure(figsize=(15,10))\n",
        "sns.countplot(df_train['kills'])\n",
        "plt.title(\"Kill Count\",fontsize=15)\n",
        "plt.show()"
      ],
      "execution_count": 0,
      "outputs": [
        {
          "output_type": "display_data",
          "data": {
            "image/png": "[encoded data removed]",
            "text/plain": [
              "<Figure size 1080x720 with 1 Axes>"
            ]
          },
          "metadata": {
            "tags": [],
            "needs_background": "light"
          }
        }
      ]
    },
    {
      "cell_type": "code",
      "metadata": {
        "id": "2gF8uW6mV-5q",
        "colab_type": "code",
        "colab": {},
        "outputId": "b45ab26f-70db-4ff3-f909-5d4fb54e51c6"
      },
      "source": [
        "data = df_train[df_train['kills']==0]\n",
        "plt.figure(figsize=(15,10))\n",
        "plt.title(\"Damage Dealt by 0 killers\")\n",
        "sns.distplot(data['damageDealt'], kde=False)\n",
        "plt.show()"
      ],
      "execution_count": 0,
      "outputs": [
        {
          "output_type": "display_data",
          "data": {
            "image/png": "[encoded data removed]",
            "text/plain": [
              "<Figure size 1080x720 with 1 Axes>"
            ]
          },
          "metadata": {
            "tags": [],
            "needs_background": "light"
          }
        }
      ]
    },
    {
      "cell_type": "code",
      "metadata": {
        "id": "asiCbqXlV-5y",
        "colab_type": "code",
        "colab": {},
        "outputId": "3ed88e88-a793-4300-c6ef-22f89d6aebe3"
      },
      "source": [
        "kills = df_train.copy()\n",
        "\n",
        "kills['killsCategories'] = pd.cut(kills['kills'], [-1, 0, 2, 5, 10, 60], labels=['0_kills','1-2_kills', '3-5_kills', '6-10_kills', '10+_kills'])\n",
        "\n",
        "plt.figure(figsize=(15,8))\n",
        "sns.boxplot(x=\"killsCategories\", y=\"winPlacePerc\", data=kills)\n",
        "plt.show()"
      ],
      "execution_count": 0,
      "outputs": [
        {
          "output_type": "display_data",
          "data": {
            "image/png": "[encoded data removed]",
            "text/plain": [
              "<Figure size 1080x576 with 1 Axes>"
            ]
          },
          "metadata": {
            "tags": [],
            "needs_background": "light"
          }
        }
      ]
    },
    {
      "cell_type": "code",
      "metadata": {
        "id": "rW08wbmRV-53",
        "colab_type": "code",
        "colab": {},
        "outputId": "8734b8a4-4417-4d0e-ed0c-5f5161ec5a8a"
      },
      "source": [
        "cols = df_train.columns[4:7]\n",
        "\n",
        "sns.pairplot(df_test[cols], size=2.5)\n",
        "plt.tight_layout()\n",
        "plt.show()"
      ],
      "execution_count": 0,
      "outputs": [
        {
          "output_type": "display_data",
          "data": {
            "image/png": "[encoded data removed]",
            "text/plain": [
              "<Figure size 540x540 with 12 Axes>"
            ]
          },
          "metadata": {
            "tags": [],
            "needs_background": "light"
          }
        }
      ]
    },
    {
      "cell_type": "code",
      "metadata": {
        "id": "8DOwdLRXV-56",
        "colab_type": "code",
        "colab": {},
        "outputId": "af6f0698-31f2-48b3-852c-70bda3f6af7f"
      },
      "source": [
        "sns.jointplot(\"winPlacePerc\", \"kills\", data = df_train)\n",
        "# sns.jointplot(\"winPlacePerc\", \"kills\", data = df_train, kind = \"hex\")\n",
        "# sns.jointplot((\"winPlacePerc\", \"kills\", data = df_train, kind = \"kde\")"
      ],
      "execution_count": 0,
      "outputs": [
        {
          "output_type": "execute_result",
          "data": {
            "text/plain": [
              "<seaborn.axisgrid.JointGrid at 0x7fb0ca4eb3c8>"
            ]
          },
          "metadata": {
            "tags": []
          },
          "execution_count": 14
        },
        {
          "output_type": "display_data",
          "data": {
            "image/png": "[encoded data removed]",
            "text/plain": [
              "<Figure size 432x432 with 3 Axes>"
            ]
          },
          "metadata": {
            "tags": [],
            "needs_background": "light"
          }
        }
      ]
    },
    {
      "cell_type": "code",
      "metadata": {
        "id": "EUBaKgqEV-59",
        "colab_type": "code",
        "colab": {},
        "outputId": "03a90eda-8ef8-41af-ec54-2c14428780ac"
      },
      "source": [
        "data = df_train.copy()\n",
        "data = data[data['heals'] < data['heals'].quantile(0.99)]\n",
        "data = data[data['boosts'] < data['boosts'].quantile(0.99)]\n",
        "\n",
        "f,ax1 = plt.subplots(figsize =(20,10))\n",
        "sns.pointplot(x='heals',y='winPlacePerc',data=data,color='lime',alpha=0.8)\n",
        "sns.pointplot(x='boosts',y='winPlacePerc',data=data,color='blue',alpha=0.8)\n",
        "plt.text(4,0.6,'Heals',color='lime',fontsize = 17,style = 'italic')\n",
        "plt.text(4,0.55,'Boosts',color='blue',fontsize = 17,style = 'italic')\n",
        "plt.xlabel('Number of heal/boost items',fontsize = 15,color='blue')\n",
        "plt.ylabel('Win Percentage',fontsize = 15,color='blue')\n",
        "plt.title('Heals vs Boosts',fontsize = 20,color='blue')\n",
        "plt.grid()\n",
        "plt.show()"
      ],
      "execution_count": 0,
      "outputs": [
        {
          "output_type": "display_data",
          "data": {
            "image/png": "[encoded data removed]",
            "text/plain": [
              "<Figure size 1440x720 with 1 Axes>"
            ]
          },
          "metadata": {
            "tags": [],
            "needs_background": "light"
          }
        }
      ]
    },
    {
      "cell_type": "code",
      "metadata": {
        "id": "pHqaHuDbV-6A",
        "colab_type": "code",
        "colab": {},
        "outputId": "ad98fbac-0d02-4c4c-8347-137ca998a869"
      },
      "source": [
        "import numpy as np\n",
        "\n",
        "\n",
        "cm = np.corrcoef(df_train[cols].values.T)\n",
        "hm = sns.heatmap(cm,\n",
        "                 cbar=True,\n",
        "                 annot=True,\n",
        "                 square=True,\n",
        "                 fmt='.2f',\n",
        "                 annot_kws={'size': 15},\n",
        "                 yticklabels=cols,\n",
        "                 xticklabels=cols)\n",
        "\n",
        "plt.tight_layout()\n",
        "ｋplt.show()"
      ],
      "execution_count": 0,
      "outputs": [
        {
          "output_type": "display_data",
          "data": {
            "image/png": "[encoded data removed]",
            "text/plain": [
              "<Figure size 432x288 with 2 Axes>"
            ]
          },
          "metadata": {
            "tags": [],
            "needs_background": "light"
          }
        }
      ]
    }
  ]
}