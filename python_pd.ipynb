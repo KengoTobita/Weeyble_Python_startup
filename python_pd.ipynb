{
  "nbformat": 4,
  "nbformat_minor": 0,
  "metadata": {
    "kernelspec": {
      "display_name": "Python 3",
      "language": "python",
      "name": "python3"
    },
    "language_info": {
      "codemirror_mode": {
        "name": "ipython",
        "version": 3
      },
      "file_extension": ".py",
      "mimetype": "text/x-python",
      "name": "python",
      "nbconvert_exporter": "python",
      "pygments_lexer": "ipython3",
      "version": "3.7.3"
    },
    "colab": {
      "name": "python_pd.ipynb",
      "provenance": [],
      "include_colab_link": true
    }
  },
  "cells": [
    {
      "cell_type": "markdown",
      "metadata": {
        "id": "view-in-github",
        "colab_type": "text"
      },
      "source": [
        "<a href=\"https://colab.research.google.com/github/KengoTobita/Weeyble_Python_startup/blob/master/python_pd.ipynb\" target=\"_parent\"><img src=\"https://colab.research.google.com/assets/colab-badge.svg\" alt=\"Open In Colab\"/></a>"
      ]
    },
    {
      "cell_type": "markdown",
      "metadata": {
        "id": "xvary09fWPiq",
        "colab_type": "text"
      },
      "source": [
        "# Python の基本操作\n"
      ]
    },
    {
      "cell_type": "code",
      "metadata": {
        "id": "Rit37gEeWPit",
        "colab_type": "code",
        "colab": {},
        "outputId": "e7ca3843-fe28-401b-f9b3-20806927085d"
      },
      "source": [
        "print(\"hello world\")"
      ],
      "execution_count": 0,
      "outputs": [
        {
          "output_type": "stream",
          "text": [
            "hello world\n"
          ],
          "name": "stdout"
        }
      ]
    },
    {
      "cell_type": "code",
      "metadata": {
        "id": "Z33292kuWPi3",
        "colab_type": "code",
        "colab": {},
        "outputId": "365c7ead-e3e2-4186-88ac-0b8bb53c43b6"
      },
      "source": [
        "banana = 150\n",
        "apple = 100\n",
        "\n",
        "banana * 3 + apple *10"
      ],
      "execution_count": 0,
      "outputs": [
        {
          "output_type": "execute_result",
          "data": {
            "text/plain": [
              "1450"
            ]
          },
          "metadata": {
            "tags": []
          },
          "execution_count": 4
        }
      ]
    },
    {
      "cell_type": "code",
      "metadata": {
        "id": "Cj3hQIIzWPjB",
        "colab_type": "code",
        "colab": {},
        "outputId": "1ef4738c-fa6a-444a-e066-ee5e7cd75f63"
      },
      "source": [
        "num_list = [1,2,3,4,5,6]\n",
        "\n",
        "num_list[1]"
      ],
      "execution_count": 0,
      "outputs": [
        {
          "output_type": "execute_result",
          "data": {
            "text/plain": [
              "2"
            ]
          },
          "metadata": {
            "tags": []
          },
          "execution_count": 5
        }
      ]
    },
    {
      "cell_type": "code",
      "metadata": {
        "id": "-b3b5-jqWPjJ",
        "colab_type": "code",
        "colab": {},
        "outputId": "a5dd64e7-3da1-4689-df81-a356203865bc"
      },
      "source": [
        "!ls"
      ],
      "execution_count": 0,
      "outputs": [
        {
          "output_type": "stream",
          "text": [
            "PUBG_datascience.ipynb\t  sample_submission_V2.csv.zip\ttrain_V2.csv\r\n",
            "python_pd.ipynb\t\t  test_V2.csv\t\t\ttrain_V2.csv.zip\r\n",
            "sample_submission_V2.csv  test_V2.csv.zip\r\n"
          ],
          "name": "stdout"
        }
      ]
    },
    {
      "cell_type": "code",
      "metadata": {
        "id": "iLMFyaTiWPjP",
        "colab_type": "code",
        "colab": {},
        "outputId": "79f7ef39-3408-4edd-88ff-9f45802cafad"
      },
      "source": [
        "import numpy as np\n",
        "\n",
        "a = np.array([1, 2, 3, 4])\n",
        "b = np.array([1, 2, 3, 4])\n",
        "\n",
        "np.dot(a,b)"
      ],
      "execution_count": 0,
      "outputs": [
        {
          "output_type": "execute_result",
          "data": {
            "text/plain": [
              "30"
            ]
          },
          "metadata": {
            "tags": []
          },
          "execution_count": 7
        }
      ]
    },
    {
      "cell_type": "markdown",
      "metadata": {
        "id": "ONYgMICWWPjc",
        "colab_type": "text"
      },
      "source": [
        "# 前処理を行う\n",
        "## Pandas\n",
        "pandasは、プログラミング言語Pythonにおいて、データ解析を支援する機能を提供するライブラリである。<br>\n",
        "特に、数表および時系列データを操作するためのデータ構造と演算を提供する。<br>\n",
        "PandasはBSDライセンスのもとで提供されている。\n",
        "\n",
        "<div style=\"text-align: right;\">\n",
        "pandas -Wikipedia より\n",
        "</div>"
      ]
    },
    {
      "cell_type": "code",
      "metadata": {
        "id": "z1kxf7XHWPje",
        "colab_type": "code",
        "colab": {},
        "outputId": "2111bce7-b1cd-4e9f-f919-9b4e03c6423c"
      },
      "source": [
        "import pandas as pd \n",
        "import numpy as np\n",
        "\n",
        "datas = np.array([[i,i,i] for i in range(10)])\n",
        "columns = [\"first\",\"second\",\"third\"]\n",
        "\n",
        "df = pd.DataFrame(datas, columns=columns)\n",
        "df.iloc[3,2] = np.nan\n",
        "\n",
        "df"
      ],
      "execution_count": 0,
      "outputs": [
        {
          "output_type": "execute_result",
          "data": {
            "text/html": [
              "<div>\n",
              "<style scoped>\n",
              "    .dataframe tbody tr th:only-of-type {\n",
              "        vertical-align: middle;\n",
              "    }\n",
              "\n",
              "    .dataframe tbody tr th {\n",
              "        vertical-align: top;\n",
              "    }\n",
              "\n",
              "    .dataframe thead th {\n",
              "        text-align: right;\n",
              "    }\n",
              "</style>\n",
              "<table border=\"1\" class=\"dataframe\">\n",
              "  <thead>\n",
              "    <tr style=\"text-align: right;\">\n",
              "      <th></th>\n",
              "      <th>first</th>\n",
              "      <th>second</th>\n",
              "      <th>third</th>\n",
              "    </tr>\n",
              "  </thead>\n",
              "  <tbody>\n",
              "    <tr>\n",
              "      <th>0</th>\n",
              "      <td>0</td>\n",
              "      <td>0</td>\n",
              "      <td>0.0</td>\n",
              "    </tr>\n",
              "    <tr>\n",
              "      <th>1</th>\n",
              "      <td>1</td>\n",
              "      <td>1</td>\n",
              "      <td>1.0</td>\n",
              "    </tr>\n",
              "    <tr>\n",
              "      <th>2</th>\n",
              "      <td>2</td>\n",
              "      <td>2</td>\n",
              "      <td>2.0</td>\n",
              "    </tr>\n",
              "    <tr>\n",
              "      <th>3</th>\n",
              "      <td>3</td>\n",
              "      <td>3</td>\n",
              "      <td>NaN</td>\n",
              "    </tr>\n",
              "    <tr>\n",
              "      <th>4</th>\n",
              "      <td>4</td>\n",
              "      <td>4</td>\n",
              "      <td>4.0</td>\n",
              "    </tr>\n",
              "    <tr>\n",
              "      <th>5</th>\n",
              "      <td>5</td>\n",
              "      <td>5</td>\n",
              "      <td>5.0</td>\n",
              "    </tr>\n",
              "    <tr>\n",
              "      <th>6</th>\n",
              "      <td>6</td>\n",
              "      <td>6</td>\n",
              "      <td>6.0</td>\n",
              "    </tr>\n",
              "    <tr>\n",
              "      <th>7</th>\n",
              "      <td>7</td>\n",
              "      <td>7</td>\n",
              "      <td>7.0</td>\n",
              "    </tr>\n",
              "    <tr>\n",
              "      <th>8</th>\n",
              "      <td>8</td>\n",
              "      <td>8</td>\n",
              "      <td>8.0</td>\n",
              "    </tr>\n",
              "    <tr>\n",
              "      <th>9</th>\n",
              "      <td>9</td>\n",
              "      <td>9</td>\n",
              "      <td>9.0</td>\n",
              "    </tr>\n",
              "  </tbody>\n",
              "</table>\n",
              "</div>"
            ],
            "text/plain": [
              "   first  second  third\n",
              "0      0       0    0.0\n",
              "1      1       1    1.0\n",
              "2      2       2    2.0\n",
              "3      3       3    NaN\n",
              "4      4       4    4.0\n",
              "5      5       5    5.0\n",
              "6      6       6    6.0\n",
              "7      7       7    7.0\n",
              "8      8       8    8.0\n",
              "9      9       9    9.0"
            ]
          },
          "metadata": {
            "tags": []
          },
          "execution_count": 8
        }
      ]
    },
    {
      "cell_type": "markdown",
      "metadata": {
        "id": "TxHV551iWPjn",
        "colab_type": "text"
      },
      "source": [
        "|コマンド|内容|\n",
        "|--|--|\n",
        "|describe|統計情報をざっと|\n",
        "|mean, mode, median|平均、最瀕値、中央値|\n",
        "|max,min|最大値、最小値|\n",
        "|unique|同一の値を抽出|\n",
        "|hist|ヒストグラム|\n",
        "|shape|データの大きさ|"
      ]
    },
    {
      "cell_type": "code",
      "metadata": {
        "id": "L3GtONCoWPjq",
        "colab_type": "code",
        "colab": {},
        "outputId": "17404ce7-40f8-4eb3-a5db-cb45c0c1a8dc"
      },
      "source": [
        "df.describe()"
      ],
      "execution_count": 0,
      "outputs": [
        {
          "output_type": "execute_result",
          "data": {
            "text/html": [
              "<div>\n",
              "<style scoped>\n",
              "    .dataframe tbody tr th:only-of-type {\n",
              "        vertical-align: middle;\n",
              "    }\n",
              "\n",
              "    .dataframe tbody tr th {\n",
              "        vertical-align: top;\n",
              "    }\n",
              "\n",
              "    .dataframe thead th {\n",
              "        text-align: right;\n",
              "    }\n",
              "</style>\n",
              "<table border=\"1\" class=\"dataframe\">\n",
              "  <thead>\n",
              "    <tr style=\"text-align: right;\">\n",
              "      <th></th>\n",
              "      <th>first</th>\n",
              "      <th>second</th>\n",
              "      <th>third</th>\n",
              "    </tr>\n",
              "  </thead>\n",
              "  <tbody>\n",
              "    <tr>\n",
              "      <th>count</th>\n",
              "      <td>10.00000</td>\n",
              "      <td>10.00000</td>\n",
              "      <td>9.000000</td>\n",
              "    </tr>\n",
              "    <tr>\n",
              "      <th>mean</th>\n",
              "      <td>4.50000</td>\n",
              "      <td>4.50000</td>\n",
              "      <td>4.666667</td>\n",
              "    </tr>\n",
              "    <tr>\n",
              "      <th>std</th>\n",
              "      <td>3.02765</td>\n",
              "      <td>3.02765</td>\n",
              "      <td>3.162278</td>\n",
              "    </tr>\n",
              "    <tr>\n",
              "      <th>min</th>\n",
              "      <td>0.00000</td>\n",
              "      <td>0.00000</td>\n",
              "      <td>0.000000</td>\n",
              "    </tr>\n",
              "    <tr>\n",
              "      <th>25%</th>\n",
              "      <td>2.25000</td>\n",
              "      <td>2.25000</td>\n",
              "      <td>2.000000</td>\n",
              "    </tr>\n",
              "    <tr>\n",
              "      <th>50%</th>\n",
              "      <td>4.50000</td>\n",
              "      <td>4.50000</td>\n",
              "      <td>5.000000</td>\n",
              "    </tr>\n",
              "    <tr>\n",
              "      <th>75%</th>\n",
              "      <td>6.75000</td>\n",
              "      <td>6.75000</td>\n",
              "      <td>7.000000</td>\n",
              "    </tr>\n",
              "    <tr>\n",
              "      <th>max</th>\n",
              "      <td>9.00000</td>\n",
              "      <td>9.00000</td>\n",
              "      <td>9.000000</td>\n",
              "    </tr>\n",
              "  </tbody>\n",
              "</table>\n",
              "</div>"
            ],
            "text/plain": [
              "          first    second     third\n",
              "count  10.00000  10.00000  9.000000\n",
              "mean    4.50000   4.50000  4.666667\n",
              "std     3.02765   3.02765  3.162278\n",
              "min     0.00000   0.00000  0.000000\n",
              "25%     2.25000   2.25000  2.000000\n",
              "50%     4.50000   4.50000  5.000000\n",
              "75%     6.75000   6.75000  7.000000\n",
              "max     9.00000   9.00000  9.000000"
            ]
          },
          "metadata": {
            "tags": []
          },
          "execution_count": 9
        }
      ]
    },
    {
      "cell_type": "code",
      "metadata": {
        "id": "SYCFF5DXWPjy",
        "colab_type": "code",
        "colab": {},
        "outputId": "aaf71e2f-173f-47bf-be3b-0f58fc9f977e"
      },
      "source": [
        "print(\"mean : \",df[\"first\"].mean())\n",
        "\n",
        "print(\"median : \", df[\"first\"].median())\n",
        "\n",
        "print(\"mode : \", df[\"first\"].mode())"
      ],
      "execution_count": 0,
      "outputs": [
        {
          "output_type": "stream",
          "text": [
            "mean :  4.5\n",
            "median :  4.5\n",
            "mode :  0    0\n",
            "1    1\n",
            "2    2\n",
            "3    3\n",
            "4    4\n",
            "5    5\n",
            "6    6\n",
            "7    7\n",
            "8    8\n",
            "9    9\n",
            "dtype: int64\n"
          ],
          "name": "stdout"
        }
      ]
    },
    {
      "cell_type": "code",
      "metadata": {
        "id": "6TfLbhJPWPj6",
        "colab_type": "code",
        "colab": {},
        "outputId": "6ea3306f-11dd-4f55-b3e2-e44c9cae8590"
      },
      "source": [
        "df[\"second\"].unique()"
      ],
      "execution_count": 0,
      "outputs": [
        {
          "output_type": "execute_result",
          "data": {
            "text/plain": [
              "array([0, 1, 2, 3, 4, 5, 6, 7, 8, 9])"
            ]
          },
          "metadata": {
            "tags": []
          },
          "execution_count": 11
        }
      ]
    },
    {
      "cell_type": "code",
      "metadata": {
        "id": "_1gUuQlWWPkC",
        "colab_type": "code",
        "colab": {},
        "outputId": "caf21dc7-9ea9-4c27-ffd6-b0b6adc58626"
      },
      "source": [
        "print(df.hist())"
      ],
      "execution_count": 0,
      "outputs": [
        {
          "output_type": "stream",
          "text": [
            "[[<matplotlib.axes._subplots.AxesSubplot object at 0x7fc2dea62f98>\n",
            "  <matplotlib.axes._subplots.AxesSubplot object at 0x7fc2d9daa668>]\n",
            " [<matplotlib.axes._subplots.AxesSubplot object at 0x7fc2d9ddeb38>\n",
            "  <matplotlib.axes._subplots.AxesSubplot object at 0x7fc2d9d9d128>]]\n"
          ],
          "name": "stdout"
        }
      ]
    },
    {
      "cell_type": "code",
      "metadata": {
        "id": "HI6ZJV_cWPkL",
        "colab_type": "code",
        "colab": {},
        "outputId": "1e822e12-d7da-4a2c-b75f-ced377834cc0"
      },
      "source": [
        "df[\"first\"].plot.pie()"
      ],
      "execution_count": 0,
      "outputs": [
        {
          "output_type": "execute_result",
          "data": {
            "text/plain": [
              "<matplotlib.axes._subplots.AxesSubplot at 0x7fc2d9c39198>"
            ]
          },
          "metadata": {
            "tags": []
          },
          "execution_count": 13
        },
        {
          "output_type": "display_data",
          "data": {
            "image/png": "[encoded data removed]",
            "text/plain": [
              "<Figure size 432x288 with 1 Axes>"
            ]
          },
          "metadata": {
            "tags": []
          }
        }
      ]
    },
    {
      "cell_type": "markdown",
      "metadata": {
        "id": "l3j3dbOhWPkS",
        "colab_type": "text"
      },
      "source": [
        "Nanを消したい時。"
      ]
    },
    {
      "cell_type": "code",
      "metadata": {
        "scrolled": true,
        "id": "r4yl0dtVWPkU",
        "colab_type": "code",
        "colab": {},
        "outputId": "0a24837b-497e-4de8-d402-db2917a1564c"
      },
      "source": [
        "df"
      ],
      "execution_count": 0,
      "outputs": [
        {
          "output_type": "execute_result",
          "data": {
            "text/html": [
              "<div>\n",
              "<style scoped>\n",
              "    .dataframe tbody tr th:only-of-type {\n",
              "        vertical-align: middle;\n",
              "    }\n",
              "\n",
              "    .dataframe tbody tr th {\n",
              "        vertical-align: top;\n",
              "    }\n",
              "\n",
              "    .dataframe thead th {\n",
              "        text-align: right;\n",
              "    }\n",
              "</style>\n",
              "<table border=\"1\" class=\"dataframe\">\n",
              "  <thead>\n",
              "    <tr style=\"text-align: right;\">\n",
              "      <th></th>\n",
              "      <th>first</th>\n",
              "      <th>second</th>\n",
              "      <th>third</th>\n",
              "    </tr>\n",
              "  </thead>\n",
              "  <tbody>\n",
              "    <tr>\n",
              "      <th>0</th>\n",
              "      <td>0</td>\n",
              "      <td>0</td>\n",
              "      <td>0.0</td>\n",
              "    </tr>\n",
              "    <tr>\n",
              "      <th>1</th>\n",
              "      <td>1</td>\n",
              "      <td>1</td>\n",
              "      <td>1.0</td>\n",
              "    </tr>\n",
              "    <tr>\n",
              "      <th>2</th>\n",
              "      <td>2</td>\n",
              "      <td>2</td>\n",
              "      <td>2.0</td>\n",
              "    </tr>\n",
              "    <tr>\n",
              "      <th>3</th>\n",
              "      <td>3</td>\n",
              "      <td>3</td>\n",
              "      <td>NaN</td>\n",
              "    </tr>\n",
              "    <tr>\n",
              "      <th>4</th>\n",
              "      <td>4</td>\n",
              "      <td>4</td>\n",
              "      <td>4.0</td>\n",
              "    </tr>\n",
              "    <tr>\n",
              "      <th>5</th>\n",
              "      <td>5</td>\n",
              "      <td>5</td>\n",
              "      <td>5.0</td>\n",
              "    </tr>\n",
              "    <tr>\n",
              "      <th>6</th>\n",
              "      <td>6</td>\n",
              "      <td>6</td>\n",
              "      <td>6.0</td>\n",
              "    </tr>\n",
              "    <tr>\n",
              "      <th>7</th>\n",
              "      <td>7</td>\n",
              "      <td>7</td>\n",
              "      <td>7.0</td>\n",
              "    </tr>\n",
              "    <tr>\n",
              "      <th>8</th>\n",
              "      <td>8</td>\n",
              "      <td>8</td>\n",
              "      <td>8.0</td>\n",
              "    </tr>\n",
              "    <tr>\n",
              "      <th>9</th>\n",
              "      <td>9</td>\n",
              "      <td>9</td>\n",
              "      <td>9.0</td>\n",
              "    </tr>\n",
              "  </tbody>\n",
              "</table>\n",
              "</div>"
            ],
            "text/plain": [
              "   first  second  third\n",
              "0      0       0    0.0\n",
              "1      1       1    1.0\n",
              "2      2       2    2.0\n",
              "3      3       3    NaN\n",
              "4      4       4    4.0\n",
              "5      5       5    5.0\n",
              "6      6       6    6.0\n",
              "7      7       7    7.0\n",
              "8      8       8    8.0\n",
              "9      9       9    9.0"
            ]
          },
          "metadata": {
            "tags": []
          },
          "execution_count": 14
        }
      ]
    },
    {
      "cell_type": "code",
      "metadata": {
        "id": "2xkQdMVpWPkc",
        "colab_type": "code",
        "colab": {},
        "outputId": "ac48160e-9d23-4f34-a651-4d13243feb62"
      },
      "source": [
        "df.dropna(how=\"any\")\n",
        "# df.dropna(how=\"all\")"
      ],
      "execution_count": 0,
      "outputs": [
        {
          "output_type": "execute_result",
          "data": {
            "text/html": [
              "<div>\n",
              "<style scoped>\n",
              "    .dataframe tbody tr th:only-of-type {\n",
              "        vertical-align: middle;\n",
              "    }\n",
              "\n",
              "    .dataframe tbody tr th {\n",
              "        vertical-align: top;\n",
              "    }\n",
              "\n",
              "    .dataframe thead th {\n",
              "        text-align: right;\n",
              "    }\n",
              "</style>\n",
              "<table border=\"1\" class=\"dataframe\">\n",
              "  <thead>\n",
              "    <tr style=\"text-align: right;\">\n",
              "      <th></th>\n",
              "      <th>first</th>\n",
              "      <th>second</th>\n",
              "      <th>third</th>\n",
              "    </tr>\n",
              "  </thead>\n",
              "  <tbody>\n",
              "    <tr>\n",
              "      <th>0</th>\n",
              "      <td>0</td>\n",
              "      <td>0</td>\n",
              "      <td>0.0</td>\n",
              "    </tr>\n",
              "    <tr>\n",
              "      <th>1</th>\n",
              "      <td>1</td>\n",
              "      <td>1</td>\n",
              "      <td>1.0</td>\n",
              "    </tr>\n",
              "    <tr>\n",
              "      <th>2</th>\n",
              "      <td>2</td>\n",
              "      <td>2</td>\n",
              "      <td>2.0</td>\n",
              "    </tr>\n",
              "    <tr>\n",
              "      <th>4</th>\n",
              "      <td>4</td>\n",
              "      <td>4</td>\n",
              "      <td>4.0</td>\n",
              "    </tr>\n",
              "    <tr>\n",
              "      <th>5</th>\n",
              "      <td>5</td>\n",
              "      <td>5</td>\n",
              "      <td>5.0</td>\n",
              "    </tr>\n",
              "    <tr>\n",
              "      <th>6</th>\n",
              "      <td>6</td>\n",
              "      <td>6</td>\n",
              "      <td>6.0</td>\n",
              "    </tr>\n",
              "    <tr>\n",
              "      <th>7</th>\n",
              "      <td>7</td>\n",
              "      <td>7</td>\n",
              "      <td>7.0</td>\n",
              "    </tr>\n",
              "    <tr>\n",
              "      <th>8</th>\n",
              "      <td>8</td>\n",
              "      <td>8</td>\n",
              "      <td>8.0</td>\n",
              "    </tr>\n",
              "    <tr>\n",
              "      <th>9</th>\n",
              "      <td>9</td>\n",
              "      <td>9</td>\n",
              "      <td>9.0</td>\n",
              "    </tr>\n",
              "  </tbody>\n",
              "</table>\n",
              "</div>"
            ],
            "text/plain": [
              "   first  second  third\n",
              "0      0       0    0.0\n",
              "1      1       1    1.0\n",
              "2      2       2    2.0\n",
              "4      4       4    4.0\n",
              "5      5       5    5.0\n",
              "6      6       6    6.0\n",
              "7      7       7    7.0\n",
              "8      8       8    8.0\n",
              "9      9       9    9.0"
            ]
          },
          "metadata": {
            "tags": []
          },
          "execution_count": 15
        }
      ]
    },
    {
      "cell_type": "markdown",
      "metadata": {
        "id": "mLN5W1TQWPkh",
        "colab_type": "text"
      },
      "source": [
        "# matplotlib & Seaborn\n",
        "Pythonの描画ライブラリ。<bR>\n",
        "グラフの作成はだいたいこいつ。<br>\n",
        "<br>\n",
        "matplotlib以外にもSeabornというライブラリが存在し、\n",
        "発展的なグラフを作成する際に使用する。"
      ]
    },
    {
      "cell_type": "code",
      "metadata": {
        "id": "GgKloflYWPki",
        "colab_type": "code",
        "colab": {}
      },
      "source": [
        "import matplotlib.pyplot as plt\n",
        "import seaborn as sns \n",
        "import numpy as np"
      ],
      "execution_count": 0,
      "outputs": []
    },
    {
      "cell_type": "code",
      "metadata": {
        "id": "uNHUybJAWPkp",
        "colab_type": "code",
        "colab": {},
        "outputId": "9687a33d-39a4-445b-c87f-97bcb0bc9080"
      },
      "source": [
        "x = [i for i in range(1000)]\n",
        "y = [np.sin(x) for i in x]\n",
        "\n",
        "x = np.array([i for i in range(100)])\n",
        "y = np.sin(x)\n",
        " \n",
        "# グラフ描画\n",
        "plt.plot(x, y) # 折れ線グラフ描画\n",
        "plt.show()"
      ],
      "execution_count": 0,
      "outputs": [
        {
          "output_type": "display_data",
          "data": {
            "image/png": "[encoded data removed]",
            "text/plain": [
              "<Figure size 432x288 with 1 Axes>"
            ]
          },
          "metadata": {
            "tags": [],
            "needs_background": "light"
          }
        }
      ]
    },
    {
      "cell_type": "code",
      "metadata": {
        "id": "cTwj2YBMWPkz",
        "colab_type": "code",
        "colab": {},
        "outputId": "8259916c-3613-4a41-ef7a-01ca8b15a1c8"
      },
      "source": [
        "import seaborn as sns; sns.set()\n",
        "\n",
        "fmri = sns.load_dataset(\"fmri\")\n",
        "sns.lineplot(x=\"timepoint\", y=\"signal\", data=fmri)"
      ],
      "execution_count": 0,
      "outputs": [
        {
          "output_type": "execute_result",
          "data": {
            "text/plain": [
              "<matplotlib.axes._subplots.AxesSubplot at 0x7f2498c7d588>"
            ]
          },
          "metadata": {
            "tags": []
          },
          "execution_count": 18
        },
        {
          "output_type": "display_data",
          "data": {
            "image/png": "[encoded data removed]",
            "text/plain": [
              "<Figure size 432x288 with 1 Axes>"
            ]
          },
          "metadata": {
            "tags": []
          }
        }
      ]
    },
    {
      "cell_type": "markdown",
      "metadata": {
        "id": "ZsHy7AuUWPk5",
        "colab_type": "text"
      },
      "source": [
        "# 参考\n",
        "1985.5 渡辺洋\\[ほか\\]著 「[探索的データ解析入門 : データの構造を探る)](https://www.amazon.co.jp/%E6%8E%A2%E7%B4%A2%E7%9A%84%E3%83%87%E3%83%BC%E3%82%BF%E8%A7%A3%E6%9E%90%E5%85%A5%E9%96%80%E2%80%95%E3%83%87%E3%83%BC%E3%82%BF%E3%81%AE%E6%A7%8B%E9%80%A0%E3%82%92%E6%8E%A2%E3%82%8B-%E7%B5%B1%E8%A8%88%E3%83%A9%E3%82%A4%E3%83%96%E3%83%A9%E3%83%AA%E3%83%BC-%E6%B8%A1%E9%83%A8-%E6%B4%8B/dp/4254125240)」"
      ]
    }
  ]
}