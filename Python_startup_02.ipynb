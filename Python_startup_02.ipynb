{
 "cells": [
  {
   "cell_type": "markdown",
   "metadata": {},
   "source": [
    "# <font size = \"600%\">第2回　Pythonの基礎"
   ]
  },
  {
   "cell_type": "markdown",
   "metadata": {},
   "source": [
    "***\n",
    "## 今回の講義内容  \n",
    "<b>目標：Pythonを高度な電卓として使用することができる。</b>\n",
    "1. Hello World!  (pront関数)\n",
    "1. 基本的な演算子\n",
    "1. 変数の使用\n",
    "1. コメントの使用"
   ]
  },
  {
   "cell_type": "markdown",
   "metadata": {},
   "source": [
    "***\n",
    "## Hello World と Print関数\n",
    "    \n",
    "プログラミング言語を学び始めて最初にすること……そう！  <b>Hello World!</b>   \n",
    "なぜかは分かりませんが、昔からプログラミングを始める第一歩は「<b>Hello World</b>」と出力すると決まっています。    \n",
    "我々も先人たちに習い、Hello WorldでPythonデビューをしましょう！  \n",
    "  \n",
    "書いたコードを出力するには<b>Print関数</b>を使用します。  \n",
    "print関数は ' print () ' の中に書いたものを出力します。  \n",
    "今回はカッコの中に「<b>\"Hello World\"</b>」と入力してください！  \n",
    "（ダブルクォーテーション「”」　の入力を忘れずに行ってください！　理由は次回解説いたします！）"
   ]
  },
  {
   "cell_type": "code",
   "execution_count": 4,
   "metadata": {},
   "outputs": [
    {
     "name": "stdout",
     "output_type": "stream",
     "text": [
      "Hello World!\n"
     ]
    }
   ],
   "source": [
    "print(\"Hello World!\")"
   ]
  },
  {
   "cell_type": "markdown",
   "metadata": {},
   "source": [
    "おめでとうございます！　これであなたも<font color = \"Red\" ><b>Pythonista</b></font>です！"
   ]
  },
  {
   "cell_type": "markdown",
   "metadata": {},
   "source": [
    "***\n",
    "## Pythonを電卓として使おう！      \n",
    "    \n",
    "複雑な計算もPythonを使用すれば、簡単に分かりやすく計算することができます！    \n",
    "もちろん、これらの演算子は機械学習でも多用する重要な技術です。     \n",
    "ぜひマスターしてください！"
   ]
  },
  {
   "cell_type": "markdown",
   "metadata": {},
   "source": [
    "\n",
    "| 演算子 | 使用例 | 使用例の結果 | 解説 |\n",
    "| :----: | :----: | :----------: | ------------------------------ |\n",
    "| x + y  | 2 + 3  |      5       | 普通の足し算                   |\n",
    "| x - y  | 3 - 2  |      1       | 普通の引き算                   |\n",
    "| x * y  | 4 * 3  |      12      | 普通の掛け算                   |\n",
    "| x / y  | 5 / 2  |     2.5      | 割り算<span style=\"font-size: 10%\">（小数点以下の表示<b>あり</b>）</span> |\n",
    "| x // y | 5 // 2 |      2       | 割り算<span style=\"font-size: 10%\">（少数点以下の表示<b>なし</b>）</span> |\n",
    "| x ** y | 2 ** 4 |      16      | 累乗                           |\n"
   ]
  },
  {
   "cell_type": "markdown",
   "metadata": {},
   "source": [
    "少しPythonで遊んで見ましょう。    \n",
    "下記の計算では、自転車で地球一周をした時にかかる時間を計算しています。"
   ]
  },
  {
   "cell_type": "code",
   "execution_count": 12,
   "metadata": {},
   "outputs": [
    {
     "name": "stdout",
     "output_type": "stream",
     "text": [
      "2862.5時間かかります\n",
      "約119.0日に当たります\n"
     ]
    }
   ],
   "source": [
    "# 地球一周の距離は　約40,075kmです　（赤道一周）\n",
    "# 自転車の速度は １４km/h   として計算しています\n",
    "\n",
    "print(str(40075 / 14) + \"時間かかります\")\n",
    "print(\"約\" + str(40075/14//24) + \"日に当たります\")"
   ]
  },
  {
   "cell_type": "markdown",
   "metadata": {},
   "source": [
    "***\n",
    "## コメント\n",
    "さらっと使いましたが、コードの中にコメントを書く機能があります。    "
   ]
  },
  {
   "cell_type": "code",
   "execution_count": 16,
   "metadata": {},
   "outputs": [],
   "source": [
    "# この機能です！　\n",
    "#  このシャープが付いて、色が変わっている行が「コメントです」"
   ]
  },
  {
   "cell_type": "markdown",
   "metadata": {},
   "source": [
    "コメントはプログラムとして実行されませんが、コードのなかにメモ書きを残すことができます。    \n",
    "行のはじめに「＃」をつけると、その行はコメントと見なされます。    \n",
    "少し、いじってみましょう。"
   ]
  },
  {
   "cell_type": "code",
   "execution_count": 13,
   "metadata": {},
   "outputs": [
    {
     "name": "stdout",
     "output_type": "stream",
     "text": [
      "＃　が付いていないので出力されます！\n"
     ]
    }
   ],
   "source": [
    "print(\"＃　が付いていないので出力されます！\")\n",
    "#　print(\"#　がついているので出力されません……\")"
   ]
  },
  {
   "cell_type": "markdown",
   "metadata": {},
   "source": [
    "このようにコメントを残すことで、そのコードで何を行っているのか分かりやすくすることができます。    \n",
    "下記のように長いコードの時に、何をしているかを書くことで後でコードを理解しなくてはいけない時に、理解が容易になります。"
   ]
  },
  {
   "cell_type": "code",
   "execution_count": null,
   "metadata": {},
   "outputs": [],
   "source": [
    "#   なんか複雑そうなサムシングを用意"
   ]
  },
  {
   "cell_type": "markdown",
   "metadata": {},
   "source": [
    "<b>ね？分かりやすくなったでしょ？</b><font color = \"#cccccc\">なったよね？</font>"
   ]
  },
  {
   "cell_type": "markdown",
   "metadata": {},
   "source": [
    "***\n",
    "## 変数の使用\n",
    "上記の演算子だけでも計算はできますが、複雑になるにつれ表記が煩雑になってしまいます。    \n",
    "しかし、変数を使用することでコードを書きやすく、理解しやすくすることができます。    \n",
    "    \n",
    "変数とはデータを一時的に記憶しておく領域のことです。    \n",
    "言葉で描いても分かりづらいところなので、下記のコードをご覧ください。    \n",
    "    \n",
    " 下記のコードでは商品の値段に変数を使用しています。"
   ]
  },
  {
   "cell_type": "code",
   "execution_count": 17,
   "metadata": {},
   "outputs": [
    {
     "name": "stdout",
     "output_type": "stream",
     "text": [
      "1500\n"
     ]
    }
   ],
   "source": [
    "apple = 200\n",
    "orange = 100\n",
    "banana = 150\n",
    "\n",
    "print(apple * 3 + banana * 6)"
   ]
  },
  {
   "cell_type": "markdown",
   "metadata": {},
   "source": [
    "\n",
    "\n",
    "<span style = \"font-size:200%\" ><b>ね？さっきより読みやすいでしょ？</b></span></br>\n",
    "(リンゴを３つ、バナナを６つ買ったことが一目瞭然！)"
   ]
  }
 ],
 "metadata": {
  "kernelspec": {
   "display_name": "Python 3",
   "language": "python",
   "name": "python3"
  },
  "language_info": {
   "codemirror_mode": {
    "name": "ipython",
    "version": 3
   },
   "file_extension": ".py",
   "mimetype": "text/x-python",
   "name": "python",
   "nbconvert_exporter": "python",
   "pygments_lexer": "ipython3",
   "version": "3.7.0"
  }
 },
 "nbformat": 4,
 "nbformat_minor": 2
}
